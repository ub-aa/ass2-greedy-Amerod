{
 "cells": [
  {
   "cell_type": "markdown",
   "metadata": {},
   "source": [
    "<div style=\"padding:30px; color: white; background-color: #0071CD\">\n",
    "<center>\n",
    "<img src=\"img/logoub.jpeg\"></img>\n",
    "<center>\n",
    "<p>\n",
    "<h1>Algorísmica Avançada</h1>\n",
    "<h2>Práctica 2: Greedy</h2>\n",
    "</center>\n",
    "</p>\n",
    "</div>"
   ]
  },
  {
   "cell_type": "markdown",
   "metadata": {},
   "source": [
    "<div class=\"alert alert-success\" style=\"width:90%; margin:0 auto;\">\n",
    "  <h2><p>Minimum Spanning Tree</p></h2>\n",
    "  <p>\n",
    "Dado un grafo conexo y no dirigido, un minimum spanning tree de ese grafo es un subgrafo que tiene que ser un árbol y contener todos los vértices del grafo inicial. Cada arista tiene asignado un peso proporcional entre ellos, que es un número representativo de algún objeto, distancia, etc.; y se usa para asignar un peso total al MST computando la suma de todos los pesos de las aristas del árbol en cuestión. Un MST o un árbol expandido mínimo es un árbol recubridor que pesa menos o igual que otros árboles recubridores. Todo grafo tiene un bosque recubridor mínimo.\n",
    "  </p>\n",
    "  <p>\n",
    "      En esta práctica se plantea la implementación del algoritmo de Prim para encontrar el arbol de expansión mínima en el metro de Londres.\n",
    "  </p>\n",
    "  </div>\n"
   ]
  },
  {
   "cell_type": "markdown",
   "metadata": {},
   "source": [
    "<div class=\"alert alert-danger\" style=\"width:80%; margin:0 auto; padding\">\n",
    "<center><p><h3> Código </h3></p> </center>\n",
    "<p>\n",
    "<h3>INPUT</h3>\n",
    "<ul>\n",
    "<li>__G__: El grafo del metro de londres.</li>\n",
    "</ul>\n",
    "<br>\n",
    "<h3>OUTPUT</h3>\n",
    "\n",
    "<ul>\n",
    "<li>\n",
    "__tree__: Objeto de tipo `Graph` que contenga el MST del grafo inical.\n",
    "</li>\n",
    "<ul>\n",
    "\n",
    "</p>\n",
    "</div>\n"
   ]
  },
  {
   "cell_type": "code",
   "execution_count": 94,
   "metadata": {},
   "outputs": [
    {
     "data": {
      "text/plain": [
       "<graphlib.classes.graph.Graph instance at 0x00000000093723C8>"
      ]
     },
     "execution_count": 94,
     "metadata": {},
     "output_type": "execute_result"
    }
   ],
   "source": [
    "from util import get_subway_graph, draw_subway_graph\n",
    "from graphlib.classes import Graph\n",
    "import Queue as queue\n",
    "def prim(G, origin=None):\n",
    "    \"\"\" Implementación del algoritmo de Prim para obtener el MST de un grafo cualquiera.\n",
    "    Args:\n",
    "        G (Graph): El grafo de tipo Graph sobre el que queremos buscar los componentes conexos\n",
    "    Returns:\n",
    "        tree: El grafo de tipo Graph que contiene el arbol de expansión mínima.\n",
    "    \"\"\"\n",
    "    tree = Graph()#1\n",
    "    cola = queue.PriorityQueue()#1\n",
    "    nodos = G.nodes()#1\n",
    "    if origin!=None: #en ambos casos 1\n",
    "        nodo = origin #1\n",
    "    else:\n",
    "        nodo = nodos[0] #1\n",
    "    nodos.remove(nodo) #V (segun documentacion de python)\n",
    "    tree.add_node(nodo) #1 (promedio)\n",
    "    while len(nodos)>0: #V (en cada ciclo eliminamos 1 elemento) * (V * 1 + log N) + N + 2 + V + 2\n",
    "        for vecino in G.neighbors(nodo): #V (En el peor de los casos estara conectado a todos los nodos) * 1 + log N\n",
    "            if vecino in nodos:#1\n",
    "                cola.put((G.edge[nodo][vecino]['peso'],(nodo,vecino)))#log N (N es el numero de elementos de la cola)\n",
    "        peso,(ori_edge,dest_edge) = cola.get() #1\n",
    "        while (ori_edge not in nodos and dest_edge not in nodos) and not cola.empty():#N (numero de elementos en la cola, en el peor de los casos)\n",
    "            peso,(ori_edge,dest_edge) = cola.get()#1\n",
    "        if ori_edge in nodos:#2 en el peor de los casos(elif)\n",
    "            nodo = ori_edge#1\n",
    "        elif dest_edge in nodos:\n",
    "            nodo = dest_edge#1\n",
    "            dest_edge = ori_edge#1\n",
    "        nodos.remove(nodo)#V\n",
    "        tree.add_node(nodo)#1\n",
    "        tree.add_edge(nodo,dest_edge,{'peso':peso})#1\n",
    "    return tree\n",
    "\n",
    "\n",
    "\"\"\" GRAFO SIMPLE PRUEBA \n",
    "G = Graph()\n",
    "nodes = [\"A\",\"B\",\"C\",\"D\"]\n",
    "edges = [\n",
    "    (\"A\",\"B\"),\n",
    "    (\"A\",\"C\"),\n",
    "    (\"A\",\"D\"),\n",
    "    (\"B\",\"C\"),\n",
    "    (\"B\",\"D\"),\n",
    "    (\"C\",\"D\")\n",
    "]\n",
    "G.add_nodes_from(nodes)\n",
    "G.add_edges_from(edges)\n",
    "G.edge['A']['B']['peso'] = 3\n",
    "G.edge['A']['C']['peso'] = 2\n",
    "G.edge['A']['D']['peso'] = 1\n",
    "G.edge['B']['C']['peso'] = 4\n",
    "G.edge['B']['D']['peso'] = 5\n",
    "G.edge['C']['D']['peso'] = 6\n",
    "\n",
    "resultado = prim(G)\n",
    "print resultado.node\n",
    "print resultado.edge\n",
    "\"\"\"\n",
    "\"\"\" GRAFO UN POCO MAS COMPLEJO PRUEBA\n",
    "G = Graph()\n",
    "nodes = [\"A\",\"B\",\"C\",\"D\",\"E\",\"F\",\"G\"]\n",
    "edges = [\n",
    "    (\"A\",\"B\"),\n",
    "    (\"B\",\"C\"),\n",
    "    (\"B\",\"D\"),\n",
    "    (\"C\",\"D\"),\n",
    "    (\"C\",\"E\"),\n",
    "    (\"E\",\"F\"),\n",
    "    (\"E\",\"G\"),\n",
    "    (\"G\",\"F\")\n",
    "]\n",
    "G.add_nodes_from(nodes)\n",
    "G.add_edges_from(edges)\n",
    "G.edge['A']['B']['peso'] = 5\n",
    "G.edge['B']['C']['peso'] = 3\n",
    "G.edge['B']['D']['peso'] = 4\n",
    "G.edge['C']['D']['peso'] = 2\n",
    "G.edge['C']['E']['peso'] = 4\n",
    "G.edge['E']['F']['peso'] = 2\n",
    "G.edge['E']['G']['peso'] = 1\n",
    "G.edge['G']['F']['peso'] = 3\n",
    "resultado = prim(G)\n",
    "print resultado.node\n",
    "print resultado.edge\n",
    "\"\"\""
   ]
  },
  {
   "cell_type": "markdown",
   "metadata": {},
   "source": [
    "<div class=\"alert alert-danger\" style=\"width:80%; margin:0 auto; padding\">\n",
    "<center><p><h3> Tests </h3></p> </center>\n",
    "<p>\n",
    "Realiza los tests pertinentes en las celdas dispuestas a continuación.\n",
    "</p>\n",
    "</div>\n"
   ]
  },
  {
   "cell_type": "code",
   "execution_count": 134,
   "metadata": {
    "scrolled": true
   },
   "outputs": [
    {
     "name": "stdout",
     "output_type": "stream",
     "text": [
      "Help on method_descriptor:\n",
      "\n",
      "values(...)\n",
      "    D.values() -> an object providing a view on D's values\n",
      "\n"
     ]
    }
   ],
   "source": []
  },
  {
   "cell_type": "markdown",
   "metadata": {},
   "source": [
    "<div class=\"alert alert-info\">\n",
    "<center>\n",
    "  <h1>Comentarios</h1>\n",
    "  <p>\n",
    "  En esta sección tenéis que comentar brevemente (1) __cómo habéis realizado la implementación del algoritmo__ así como un (2) __análisis detallado de la complejidad__ del mismo.\n",
    "  </p>\n",
    "</center>\n",
    "</div>"
   ]
  },
  {
   "cell_type": "markdown",
   "metadata": {},
   "source": [
    "Para implementar el algoritmo de Prim he utilizado una cola de prioridades donde guardo las aristas en funcion de su peso. La cola de prioridades utiliza un heap para guardar los datos, la cual cosa quiere decir que las inserciones tendran un costo de orden Theta(Log N) y los get tendra un costo de orden (1) ya que el minimo siempre es la raiz.\n",
    "El algoritmo toma un nodo de referencia que guarda en el nuevo arbol y añade todas las aristas que van a nodos no visitados en la cola de prioridades. Luego se toma la arista con el valor minimo y se mira si alguno de los dos nodos que une no estan visitados.Si es el caso añade el nodo a visitado y guarda la arista en el nuevo arbol, ahora este nodo será el de referencia y vuelve a comenzar, hasta que todos los nodos han sido visitados.\n",
    "La complejidad total del algoritmo es V + V * (V * 1 + log N) + N + 2 + V + 2 = V^2 + 2V + V * log N + N.\n",
    "Que podemos aproximar a V^2"
   ]
  },
  {
   "cell_type": "markdown",
   "metadata": {},
   "source": [
    "<div class=\"alert alert-info\">\n",
    "<center>\n",
    "  <h1>Entrega</h1>\n",
    "  <p>\n",
    "  La entrega de esta práctica se realizará a través del __Campus Virtual__. En ella tenéis que incluir únicamente el fichero `.ipynb` sin comprimir con el código debidamente comentado y los comentarios que se os proponen en la anterior sección.\n",
    "  </p>\n",
    "  <p>\n",
    "  El nombre del archivo ha de seguir el formato:\n",
    "  </p><p style=\"text-align:center\">\n",
    "  ```\n",
    "  <apellidos>_<nombre>_EP1.ipynb\n",
    "  ```\n",
    "  </p>\n",
    "</center>\n",
    "</div>"
   ]
  }
 ],
 "metadata": {
  "anaconda-cloud": {},
  "kernelspec": {
   "display_name": "Python [conda root]",
   "language": "python",
   "name": "conda-root-py"
  },
  "language_info": {
   "codemirror_mode": {
    "name": "ipython",
    "version": 2
   },
   "file_extension": ".py",
   "mimetype": "text/x-python",
   "name": "python",
   "nbconvert_exporter": "python",
   "pygments_lexer": "ipython2",
   "version": "2.7.14"
  }
 },
 "nbformat": 4,
 "nbformat_minor": 2
}
